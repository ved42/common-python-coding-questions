{
 "cells": [
  {
   "cell_type": "markdown",
   "id": "135791cb",
   "metadata": {},
   "source": [
    "## 1.Swap two numbers without third variable"
   ]
  },
  {
   "cell_type": "code",
   "execution_count": 1,
   "id": "adde5166",
   "metadata": {},
   "outputs": [
    {
     "name": "stdout",
     "output_type": "stream",
     "text": [
      "3 12\n"
     ]
    }
   ],
   "source": [
    "a=12\n",
    "b=3\n",
    "a=a+b#a=15\n",
    "b=a-b#b=12\n",
    "a=a-b#a=3\n",
    "print(a,b)"
   ]
  },
  {
   "cell_type": "markdown",
   "id": "24bd5262",
   "metadata": {},
   "source": [
    "## 2.Swap two numbers with third variable"
   ]
  },
  {
   "cell_type": "code",
   "execution_count": 2,
   "id": "004bf97a",
   "metadata": {},
   "outputs": [
    {
     "name": "stdout",
     "output_type": "stream",
     "text": [
      "3 12\n"
     ]
    }
   ],
   "source": [
    "a=12\n",
    "b=3\n",
    "temp=a#temp=12\n",
    "a=b#a=3\n",
    "b=temp#temp=12\n",
    "print(a,b)"
   ]
  },
  {
   "cell_type": "markdown",
   "id": "a316443b",
   "metadata": {},
   "source": [
    "## 3.Prime number or not"
   ]
  },
  {
   "cell_type": "code",
   "execution_count": 5,
   "id": "151b3920",
   "metadata": {},
   "outputs": [
    {
     "name": "stdout",
     "output_type": "stream",
     "text": [
      "enter the number40\n",
      "number is not prime\n"
     ]
    }
   ],
   "source": [
    "n=int(input(\"enter the number\"))\n",
    "count=0\n",
    "\n",
    "if n>1:\n",
    "    for i in range(1,n+1):\n",
    "        if((n%i)==0):\n",
    "            count+=1\n",
    "        \n",
    "    if count==2:\n",
    "        print(\"number is prime\")\n",
    "    else:\n",
    "        print(\"number is not prime\")\n",
    "        "
   ]
  },
  {
   "cell_type": "markdown",
   "id": "805364f1",
   "metadata": {},
   "source": [
    "## 4.Print prime numbers between the ranges"
   ]
  },
  {
   "cell_type": "code",
   "execution_count": 7,
   "id": "408af4b4",
   "metadata": {},
   "outputs": [
    {
     "name": "stdout",
     "output_type": "stream",
     "text": [
      "enter the start  number10\n",
      "enter the end number100\n",
      "11 13 17 19 23 29 31 37 41 43 47 53 59 61 67 71 73 79 83 89 97 "
     ]
    }
   ],
   "source": [
    "start=int(input(\"enter the start  number\"))\n",
    "end=int(input(\"enter the end number\"))\n",
    "\n",
    "for i in range(start,end+1):\n",
    "    flag=0\n",
    "    for j in range(2,i):\n",
    "        if(i%j==0):\n",
    "            flag=1\n",
    "            break\n",
    "    if flag==0:\n",
    "        print(i,end=' ')\n",
    "       "
   ]
  },
  {
   "cell_type": "markdown",
   "id": "a4efd322",
   "metadata": {},
   "source": [
    "## 5.Fibonacci series"
   ]
  },
  {
   "cell_type": "code",
   "execution_count": 9,
   "id": "a8ac333b",
   "metadata": {},
   "outputs": [
    {
     "name": "stdout",
     "output_type": "stream",
     "text": [
      "10\n",
      "0 1 1 2 3 5 8 13 21 34 "
     ]
    }
   ],
   "source": [
    "n=int(input())\n",
    "f1,f2=0,1\n",
    "\n",
    "if n==1:\n",
    "    print(f1)\n",
    "elif n==2:\n",
    "    print(f1,f2)\n",
    "else:\n",
    "    print(f1, f2,end=' ')\n",
    "    for i in range(3,n+1):\n",
    "        f3=f1+f2\n",
    "        print(f3,end=' ')\n",
    "        f1=f2\n",
    "        f2=f3"
   ]
  },
  {
   "cell_type": "markdown",
   "id": "0ddcb776",
   "metadata": {},
   "source": [
    "## 6.Factorial of numbers using iteration"
   ]
  },
  {
   "cell_type": "code",
   "execution_count": 3,
   "id": "8de1de5c",
   "metadata": {},
   "outputs": [
    {
     "name": "stdout",
     "output_type": "stream",
     "text": [
      "enter1\n",
      "1\n"
     ]
    }
   ],
   "source": [
    "n=int(input(\"enter\"))\n",
    "factorial=1\n",
    "if(n<0):\n",
    "    print(\"no\")\n",
    "elif(n==0 or n==1):\n",
    "    print(1)\n",
    "    \n",
    "else:\n",
    "    for i in range(1,n+1):\n",
    "        factorial=factorial*i\n",
    "    print(factorial)"
   ]
  },
  {
   "cell_type": "markdown",
   "id": "90189c89",
   "metadata": {},
   "source": [
    "## 7.Factorial of number using recurssion"
   ]
  },
  {
   "cell_type": "code",
   "execution_count": 4,
   "id": "eff5e684",
   "metadata": {},
   "outputs": [
    {
     "name": "stdout",
     "output_type": "stream",
     "text": [
      "5\n"
     ]
    },
    {
     "data": {
      "text/plain": [
       "120"
      ]
     },
     "execution_count": 4,
     "metadata": {},
     "output_type": "execute_result"
    }
   ],
   "source": [
    "def factorial(n):\n",
    "    if(n==0 or n==1):\n",
    "        return 1\n",
    "    else:\n",
    "        return n* factorial(n-1)\n",
    "    \n",
    "n=int(input())\n",
    "factorial(n)"
   ]
  },
  {
   "cell_type": "markdown",
   "id": "53467b67",
   "metadata": {},
   "source": [
    "## 8.Leap year using if-else"
   ]
  },
  {
   "cell_type": "code",
   "execution_count": 6,
   "id": "c342bbfc",
   "metadata": {},
   "outputs": [
    {
     "name": "stdout",
     "output_type": "stream",
     "text": [
      "enter year2000\n",
      "2000 leap year\n"
     ]
    }
   ],
   "source": [
    "year=int(input(\"enter year\"))\n",
    "if(year%400==0):\n",
    "    print(year,\"leap year\")\n",
    "elif((year%4==0)and(year%100!=0)):\n",
    "    print(year,\"leap year\")\n",
    "else:\n",
    "    print(year,\"not a leap year\")"
   ]
  },
  {
   "cell_type": "markdown",
   "id": "2dea5db5",
   "metadata": {},
   "source": [
    "## 9.Anargram or not"
   ]
  },
  {
   "cell_type": "code",
   "execution_count": 7,
   "id": "03065730",
   "metadata": {},
   "outputs": [
    {
     "name": "stdout",
     "output_type": "stream",
     "text": [
      "enter 1st stringlisten\n",
      "enter 2nd stringsilent\n",
      "Anargrams\n"
     ]
    }
   ],
   "source": [
    "# length of strings should equal\n",
    "# both string should have same characterstics\n",
    "\n",
    "str1=input(\"enter 1st string\")\n",
    "str2=input(\"enter 2nd string\")\n",
    "\n",
    "if len(str1)!=len(str2):\n",
    "    print(\"Not anargrams\")\n",
    "\n",
    "else:\n",
    "    if sorted(str1)==sorted(str2):\n",
    "        print(\"Anargrams\")\n",
    "    else:\n",
    "        print(\"Not anargrams\")"
   ]
  },
  {
   "cell_type": "markdown",
   "id": "014497c4",
   "metadata": {},
   "source": [
    "## 10.Check the substring is present or not in given string"
   ]
  },
  {
   "cell_type": "code",
   "execution_count": 8,
   "id": "6273b2c7",
   "metadata": {},
   "outputs": [
    {
     "name": "stdout",
     "output_type": "stream",
     "text": [
      "enter the stringpython programming\n",
      "enter the stringon\n",
      "found\n"
     ]
    }
   ],
   "source": [
    "string=input(\"enter the string\")\n",
    "sub_string=input(\"enter the string\")\n",
    "\n",
    "if(string.find(sub_string)==-1):\n",
    "    print(\" not Find\")\n",
    "else:\n",
    "    print(\"found\")"
   ]
  },
  {
   "cell_type": "markdown",
   "id": "a8dda602",
   "metadata": {},
   "source": [
    "## 11.Smallest and Largest element in list"
   ]
  },
  {
   "cell_type": "code",
   "execution_count": 9,
   "id": "c0d22b24",
   "metadata": {},
   "outputs": [
    {
     "name": "stdout",
     "output_type": "stream",
     "text": [
      "smallest element 24\n",
      "largest element 6789\n"
     ]
    }
   ],
   "source": [
    "li=[24,56,122,6789,34]\n",
    "li.sort()\n",
    "print(\"smallest element\",li[0])\n",
    "print(\"largest element\",li[-1])"
   ]
  },
  {
   "cell_type": "markdown",
   "id": "20fb4f80",
   "metadata": {},
   "source": [
    "## 12.How to remove nth occurenece in given word"
   ]
  },
  {
   "cell_type": "code",
   "execution_count": 11,
   "id": "53a22429",
   "metadata": {},
   "outputs": [
    {
     "name": "stdout",
     "output_type": "stream",
     "text": [
      "original list ['geek', 'for', 'geek', 'random', 'words', 'geek']\n",
      "updated list ['geek', 'for', 'geek', 'random', 'words']\n"
     ]
    }
   ],
   "source": [
    "li=[\"geek\",\"for\",\"geek\",'random',\"words\",\"geek\"]\n",
    "word=\"geek\"\n",
    "n=3\n",
    "count=0\n",
    "print(\"original list\",li)\n",
    "for i in range(len(li)):\n",
    "    if(li[i]==word):\n",
    "        count+=1\n",
    "        \n",
    "        if(count==n):\n",
    "            del li[i]\n",
    "            \n",
    "print(\"updated list\",li)"
   ]
  },
  {
   "cell_type": "markdown",
   "id": "a0885920",
   "metadata": {},
   "source": [
    "## 13.Search an element in a list"
   ]
  },
  {
   "cell_type": "code",
   "execution_count": 15,
   "id": "a2aee8dc",
   "metadata": {},
   "outputs": [
    {
     "name": "stdout",
     "output_type": "stream",
     "text": [
      "element found at index 1\n"
     ]
    }
   ],
   "source": [
    "l=[1,3,5,6,7,8,45]\n",
    "element=3\n",
    "flag=0\n",
    "\n",
    "for i in l:\n",
    "    if i==element:\n",
    "        print(\"element found at index\",l.index(element))\n",
    "        flag=1\n",
    "        break\n",
    "if(flag==0):\n",
    "    print(\"element not found\")"
   ]
  },
  {
   "cell_type": "markdown",
   "id": "19b52a46",
   "metadata": {},
   "source": [
    "## 14.Swap first and Last element"
   ]
  },
  {
   "cell_type": "code",
   "execution_count": 16,
   "id": "14ccbe0d",
   "metadata": {},
   "outputs": [
    {
     "name": "stdout",
     "output_type": "stream",
     "text": [
      "original list [12, 34, 56, 78, 30]\n",
      "after swapping the first and last element [30, 34, 56, 78, 12]\n"
     ]
    }
   ],
   "source": [
    "l=[12,34,56,78,30]\n",
    "print(\"original list\",l)\n",
    "temp=l[0]\n",
    "l[0]=l[-1]\n",
    "l[-1]=temp\n",
    "print(\"after swapping the first and last element\",l)"
   ]
  },
  {
   "cell_type": "markdown",
   "id": "ca11e0c1",
   "metadata": {},
   "source": [
    "## 15. Swap any two elements in the list"
   ]
  },
  {
   "cell_type": "code",
   "execution_count": 17,
   "id": "77c300f6",
   "metadata": {},
   "outputs": [
    {
     "name": "stdout",
     "output_type": "stream",
     "text": [
      "original list [12, 34, 56, 78, 90, 23, 59, 33]\n",
      "after swapping any two elements [12, 34, 90, 78, 56, 23, 59, 33]\n"
     ]
    }
   ],
   "source": [
    "li=[12,34,56,78,90,23,59,33]\n",
    "pos_1=3\n",
    "pos_2=5\n",
    "\n",
    "print(\"original list\",li)\n",
    "temp=li[pos_1-1]\n",
    "li[pos_1-1]=li[pos_2-1]\n",
    "li[pos_2-1]=temp\n",
    "\n",
    "print(\"after swapping any two elements\",li)"
   ]
  },
  {
   "cell_type": "markdown",
   "id": "bf636271",
   "metadata": {},
   "source": [
    "## 16.Reverse a list "
   ]
  },
  {
   "cell_type": "code",
   "execution_count": 23,
   "id": "53c21c40",
   "metadata": {},
   "outputs": [
    {
     "name": "stdout",
     "output_type": "stream",
     "text": [
      "first approache to reverse a list [9, 78, 6, 5, 34, 12]\n",
      "Second approach to reverse a list [5, 111, 34, 78, 34]\n"
     ]
    }
   ],
   "source": [
    "l=[12,34,5,6,78,9]\n",
    "print(\"first approache to reverse a list\",l[::-1])\n",
    "\n",
    "l1=[34,78,34,111,5]\n",
    "l1.reverse()\n",
    "print(\"Second approach to reverse a list\",l1)"
   ]
  },
  {
   "cell_type": "markdown",
   "id": "f7fc85ac",
   "metadata": {},
   "source": [
    "## 17.Python program to find the largest number among the three input numbers"
   ]
  },
  {
   "cell_type": "code",
   "execution_count": 25,
   "id": "827ed816",
   "metadata": {},
   "outputs": [
    {
     "name": "stdout",
     "output_type": "stream",
     "text": [
      "3\n",
      "6\n",
      "9\n",
      "9 is greatest number\n"
     ]
    }
   ],
   "source": [
    "n1=int(input())\n",
    "n2=int(input())\n",
    "n3=int(input())\n",
    "\n",
    "if(n1>n2 and n1>n3):\n",
    "    print(f'{n1} is greatest number')\n",
    "elif(n2>n1 and n2>n3):\n",
    "    print(f'{n2} is greatest number')\n",
    "else:\n",
    "    print(f'{n3} is greatest number')"
   ]
  },
  {
   "cell_type": "markdown",
   "id": "eaa3d5f2",
   "metadata": {},
   "source": [
    "## 18. Python program to check if the number is an Armstrong number or not"
   ]
  },
  {
   "cell_type": "code",
   "execution_count": 27,
   "id": "ff69416f",
   "metadata": {},
   "outputs": [
    {
     "name": "stdout",
     "output_type": "stream",
     "text": [
      "enter the number153\n",
      "Armstrong number\n"
     ]
    }
   ],
   "source": [
    "# In case of an Armstrong number of 3 digits, the sum of cubes of each digit is equal to the number itself. For example:\n",
    "# 153 = 1*1*1 + 5*5*5 + 3*3*3  // 153 is an Armstrong number.\n",
    "\n",
    "n=int(input(\"enter the number\"))\n",
    "length=len(str(n))\n",
    "sum=0\n",
    "temp=n\n",
    "while temp>0:\n",
    "    rem=temp%10\n",
    "    sum=sum+rem**length\n",
    "    temp=temp//10\n",
    "\n",
    "if(n==sum):\n",
    "    print(\"Armstrong number\")\n",
    "else:\n",
    "    print(\"not a armstrong number\")\n",
    "    "
   ]
  },
  {
   "cell_type": "markdown",
   "id": "83cbf959",
   "metadata": {},
   "source": [
    "## 19.Program to check Armstrong numbers in a certain interval"
   ]
  },
  {
   "cell_type": "code",
   "execution_count": 29,
   "id": "3718831d",
   "metadata": {},
   "outputs": [
    {
     "name": "stdout",
     "output_type": "stream",
     "text": [
      "enter the lowest number100\n",
      "enter the highest number500\n",
      "153 370 371 407 "
     ]
    }
   ],
   "source": [
    "lower=int(input(\"enter the lowest number\"))\n",
    "highest=int(input(\"enter the highest number\"))\n",
    "\n",
    "for i in range(lower,highest+1):\n",
    "    order=len(str(i))\n",
    "    sum=0\n",
    "    temp=i\n",
    "    while temp>0:\n",
    "        rem=temp%10\n",
    "        sum=sum+rem**order\n",
    "        temp=temp//10\n",
    "    \n",
    "    if sum==i:\n",
    "        print(i,end=' ')"
   ]
  },
  {
   "cell_type": "markdown",
   "id": "3e0431fd",
   "metadata": {},
   "source": [
    "## 20.Python program to find H.C.F of two numbers\n"
   ]
  },
  {
   "cell_type": "code",
   "execution_count": 34,
   "id": "7f6f18d1",
   "metadata": {},
   "outputs": [
    {
     "name": "stdout",
     "output_type": "stream",
     "text": [
      "enter 1st number54\n",
      "enter the 2nd number24\n",
      "the hcf is 6\n"
     ]
    }
   ],
   "source": [
    "# The highest common factor (H.C.F) or greatest common divisor (G.C.D) of two numbers is the\n",
    "# largest positive integer that perfectly divides the two given numbers. For example, the H.C.F of 12 and 14 is 2.\n",
    "\n",
    "\n",
    "num1=int(input('enter 1st number'))\n",
    "num2=int(input(\"enter the 2nd number\"))\n",
    "\n",
    "if num1>num2:\n",
    "    smaller=num2\n",
    "else:\n",
    "    smaller=num1\n",
    "    \n",
    "for i in range(1,smaller+1):\n",
    "    if((num1%i==0) &(num2%i==0)):\n",
    "        temp=i\n",
    "        \n",
    "print(\"the hcf is\",temp)\n",
    "    \n"
   ]
  },
  {
   "cell_type": "markdown",
   "id": "c67691ce",
   "metadata": {},
   "source": [
    "## 21.Python Program to find the L.C.M. of two input number"
   ]
  },
  {
   "cell_type": "code",
   "execution_count": 37,
   "id": "b4e38e40",
   "metadata": {},
   "outputs": [
    {
     "name": "stdout",
     "output_type": "stream",
     "text": [
      "enter 1st number12\n",
      "enter the 2nd number14\n",
      "lcm is 84\n"
     ]
    }
   ],
   "source": [
    "# The least common multiple (L.C.M.) of two numbers is the smallest positive integer\n",
    "# that is perfectly divisible by the two given numbers.For example, the L.C.M. of 12 and 14 is 84.\n",
    "# logic:\n",
    "# we start checking from 1 and go on till we find a number divisible by both\n",
    "# in short we goes till the multiplication of both number\n",
    "\n",
    "num1=int(input('enter 1st number'))\n",
    "num2=int(input(\"enter the 2nd number\"))\n",
    "\n",
    "for i in range(1,num1*num2+1):\n",
    "    if ((i%num1==0)and(i%num2==0)):\n",
    "        print(\"lcm is\",i)\n",
    "        break\n",
    "        "
   ]
  },
  {
   "cell_type": "markdown",
   "id": "da671aef",
   "metadata": {},
   "source": [
    "## 22. Decimal to Binary conversion"
   ]
  },
  {
   "cell_type": "code",
   "execution_count": 39,
   "id": "0581fefa",
   "metadata": {},
   "outputs": [
    {
     "name": "stdout",
     "output_type": "stream",
     "text": [
      "15\n",
      "1111"
     ]
    }
   ],
   "source": [
    "n=int(input())\n",
    "l=[]\n",
    "while n>0:\n",
    "    rem=n%2\n",
    "    l.append(rem)\n",
    "    n=n//2\n",
    "l.reverse()\n",
    "for ele in l:\n",
    "    print(ele,end='')"
   ]
  },
  {
   "cell_type": "markdown",
   "id": "34369d8f",
   "metadata": {},
   "source": [
    "## 23.Binary to Decimal conversion"
   ]
  },
  {
   "cell_type": "code",
   "execution_count": 44,
   "id": "25cb053f",
   "metadata": {},
   "outputs": [
    {
     "name": "stdout",
     "output_type": "stream",
     "text": [
      "enter the binary numbery1111\n",
      "15\n"
     ]
    }
   ],
   "source": [
    "n=input(\"enter the binary numbery\")\n",
    "l=list(n)\n",
    "l.reverse()\n",
    "sum=0\n",
    "for i in range(len(l)):\n",
    "    sum=sum+int(l[i])*2**i\n",
    "print(sum)"
   ]
  },
  {
   "cell_type": "markdown",
   "id": "dbc42ed3",
   "metadata": {},
   "source": [
    "## 24. Remove punctuations from a string"
   ]
  },
  {
   "cell_type": "code",
   "execution_count": 45,
   "id": "6bd2b7b8",
   "metadata": {},
   "outputs": [
    {
     "name": "stdout",
     "output_type": "stream",
     "text": [
      "enter the stringHello!!!, he said ---and went.\n",
      "Hello he said and went\n"
     ]
    }
   ],
   "source": [
    "punctuations = '''!()-[]{};:'\"\\,<>./?@#$%^&*_~'''\n",
    "string=input(\"enter the string\")\n",
    "without_punctuation=\"\"\n",
    "for i in string:\n",
    "    if i not in punctuations:\n",
    "        without_punctuation+=i\n",
    "print(without_punctuation)"
   ]
  },
  {
   "cell_type": "markdown",
   "id": "94deb9ae",
   "metadata": {},
   "source": [
    "## 25.Program to count the number of each vowels"
   ]
  },
  {
   "cell_type": "code",
   "execution_count": 47,
   "id": "3b70dfd2",
   "metadata": {},
   "outputs": [
    {
     "name": "stdout",
     "output_type": "stream",
     "text": [
      "enter the stringaaa\n",
      "3\n"
     ]
    }
   ],
   "source": [
    "string=input(\"enter the string\")\n",
    "vowels='aeiou'\n",
    "string.lower()\n",
    "count=0\n",
    "for i in string:\n",
    "    if i in vowels:\n",
    "        count+=1\n",
    "print(count)"
   ]
  },
  {
   "cell_type": "markdown",
   "id": "c09182bd",
   "metadata": {},
   "source": [
    "## 26. Program to print half pyramid using *"
   ]
  },
  {
   "cell_type": "raw",
   "id": "78b9270d",
   "metadata": {},
   "source": [
    "*\n",
    "* *\n",
    "* * *\n",
    "* * * *\n",
    "* * * * *"
   ]
  },
  {
   "cell_type": "code",
   "execution_count": 54,
   "id": "99b2aba3",
   "metadata": {},
   "outputs": [
    {
     "name": "stdout",
     "output_type": "stream",
     "text": [
      "5\n",
      "* \n",
      "* * \n",
      "* * * \n",
      "* * * * \n",
      "* * * * * \n"
     ]
    }
   ],
   "source": [
    "n=int(input())\n",
    "for i in range(n):\n",
    "    for j in range(i+1):\n",
    "        print(\"*\",end=' ')\n",
    "    print(end='\\n')"
   ]
  },
  {
   "cell_type": "markdown",
   "id": "b7ee39eb",
   "metadata": {},
   "source": [
    "## 27.Program to print half pyramid a using numbers"
   ]
  },
  {
   "cell_type": "raw",
   "id": "9f782e10",
   "metadata": {},
   "source": [
    "1\n",
    "1 2\n",
    "1 2 3\n",
    "1 2 3 4\n",
    "1 2 3 4 5"
   ]
  },
  {
   "cell_type": "code",
   "execution_count": 130,
   "id": "d4538215",
   "metadata": {},
   "outputs": [
    {
     "name": "stdout",
     "output_type": "stream",
     "text": [
      "5\n",
      "1 \n",
      "\n",
      "1 2 \n",
      "\n",
      "1 2 3 \n",
      "\n",
      "1 2 3 4 \n",
      "\n",
      "1 2 3 4 5 \n",
      "\n"
     ]
    }
   ],
   "source": [
    "rows=int(input())\n",
    "for i in range(1,rows+1):\n",
    "    for j in range(1,i+1):\n",
    "        print(j,end=' ')\n",
    "    print('\\n')\n"
   ]
  },
  {
   "cell_type": "markdown",
   "id": "b2690cfb",
   "metadata": {},
   "source": [
    "## 28.Program to print half pyramid using alphabets"
   ]
  },
  {
   "cell_type": "raw",
   "id": "198fad13",
   "metadata": {},
   "source": [
    "A\n",
    "B B\n",
    "C C C\n",
    "D D D D\n",
    "E E E E E"
   ]
  },
  {
   "cell_type": "code",
   "execution_count": 61,
   "id": "80714322",
   "metadata": {},
   "outputs": [
    {
     "name": "stdout",
     "output_type": "stream",
     "text": [
      "5\n",
      "A \n",
      "\n",
      "B B \n",
      "\n",
      "C C C \n",
      "\n",
      "D D D D \n",
      "\n",
      "E E E E E \n",
      "\n"
     ]
    }
   ],
   "source": [
    "n=int(input())\n",
    "ASCI_value=65\n",
    "\n",
    "for i in range(n):\n",
    "    for j in range(i+1):\n",
    "        alphabet = chr(ASCI_value)\n",
    "        print(alphabet, end=\" \")\n",
    "    ASCI_value+=1\n",
    "    print('\\n')"
   ]
  },
  {
   "cell_type": "markdown",
   "id": "23cbd0b3",
   "metadata": {},
   "source": [
    "## 29.Inverted half pyramid using *"
   ]
  },
  {
   "cell_type": "code",
   "execution_count": 110,
   "id": "bd58044a",
   "metadata": {},
   "outputs": [
    {
     "name": "stdout",
     "output_type": "stream",
     "text": [
      "5\n",
      "* * * * * \n",
      "\n",
      "* * * * \n",
      "\n",
      "* * * \n",
      "\n",
      "* * \n",
      "\n",
      "* \n",
      "\n"
     ]
    }
   ],
   "source": [
    "rows=int(input())\n",
    "for i in range(rows):\n",
    "    for j in range(i,rows):\n",
    "        print(\"*\",end=' ')\n",
    "    print('\\n')"
   ]
  },
  {
   "cell_type": "markdown",
   "id": "7da7bf75",
   "metadata": {},
   "source": [
    "## 30.Inverted half pyramid using numbers"
   ]
  },
  {
   "cell_type": "code",
   "execution_count": 64,
   "id": "e2228081",
   "metadata": {},
   "outputs": [
    {
     "name": "stdout",
     "output_type": "stream",
     "text": [
      "5\n",
      "1 2 3 4 5 \n",
      "\n",
      "2 3 4 5 \n",
      "\n",
      "3 4 5 \n",
      "\n",
      "4 5 \n",
      "\n",
      "5 \n",
      "\n"
     ]
    }
   ],
   "source": [
    "rows=int(input())\n",
    "for i in range(1,rows+1):\n",
    "    for j in range(i,n+1):\n",
    "        print(j,end=' ')\n",
    "    print('\\n')"
   ]
  },
  {
   "cell_type": "markdown",
   "id": "12e438c7",
   "metadata": {},
   "source": [
    "## 31. Program to print full pyramid using *"
   ]
  },
  {
   "cell_type": "code",
   "execution_count": 66,
   "id": "1c23da4c",
   "metadata": {},
   "outputs": [
    {
     "name": "stdout",
     "output_type": "stream",
     "text": [
      "5\n",
      "    *\n",
      "   ***\n",
      "  *****\n",
      " *******\n",
      "*********\n"
     ]
    }
   ],
   "source": [
    "rows=int(input())\n",
    "for i in range(1, rows + 1):\n",
    "        print(\" \" * (rows - i), end=\"\")\n",
    "        print(\"*\" * (2 * i - 1))"
   ]
  },
  {
   "cell_type": "markdown",
   "id": "c4d63aa1",
   "metadata": {},
   "source": [
    "## 32.Program to print full pyramid using number"
   ]
  },
  {
   "cell_type": "code",
   "execution_count": 77,
   "id": "7f79d40d",
   "metadata": {},
   "outputs": [
    {
     "name": "stdout",
     "output_type": "stream",
     "text": [
      "5\n",
      "     0\n",
      "    111\n",
      "   22222\n",
      "  3333333\n",
      " 444444444\n"
     ]
    }
   ],
   "source": [
    "n=int(input())\n",
    "\n",
    "for i in range(n):\n",
    "    for j in range(i,n):\n",
    "        print(' ',end='')\n",
    "    for k in range(i):\n",
    "        print(i,end='')\n",
    "    for m in range(i+1):\n",
    "        print(i,end='')\n",
    "    print()"
   ]
  },
  {
   "cell_type": "markdown",
   "id": "8d68c36b",
   "metadata": {},
   "source": [
    "## 33.Program to print Square pattern"
   ]
  },
  {
   "cell_type": "code",
   "execution_count": 99,
   "id": "597772d0",
   "metadata": {},
   "outputs": [
    {
     "name": "stdout",
     "output_type": "stream",
     "text": [
      "5\n",
      "*****\n",
      "*****\n",
      "*****\n",
      "*****\n",
      "*****\n"
     ]
    }
   ],
   "source": [
    "rows=int(input())\n",
    "for i in range(rows):\n",
    "    for j in range(rows):\n",
    "        print(\"*\",end=\"\")\n",
    "    print()"
   ]
  },
  {
   "cell_type": "markdown",
   "id": "3a262c55",
   "metadata": {},
   "source": [
    "## 34.Cross Pattern"
   ]
  },
  {
   "cell_type": "code",
   "execution_count": 101,
   "id": "4baf7a34",
   "metadata": {},
   "outputs": [
    {
     "name": "stdout",
     "output_type": "stream",
     "text": [
      "5\n",
      "*   *\n",
      " * * \n",
      "  *  \n",
      " * * \n",
      "*   *\n"
     ]
    }
   ],
   "source": [
    "rows=int(input())\n",
    "for i in range(rows):\n",
    "    for j in range(rows):\n",
    "        if(i==j or i+j==rows-1):\n",
    "            print(\"*\",end=\"\")\n",
    "        else:\n",
    "            print(' ',end='')\n",
    "        \n",
    "    print()"
   ]
  },
  {
   "cell_type": "markdown",
   "id": "d5d44164",
   "metadata": {},
   "source": [
    "## 35.Hollow Square Pattern"
   ]
  },
  {
   "cell_type": "code",
   "execution_count": 102,
   "id": "3c23abff",
   "metadata": {},
   "outputs": [
    {
     "name": "stdout",
     "output_type": "stream",
     "text": [
      "5\n",
      "*****\n",
      "*   *\n",
      "*   *\n",
      "*   *\n",
      "*****\n"
     ]
    }
   ],
   "source": [
    "rows=int(input())\n",
    "for i in range(rows):\n",
    "    for j in range(rows):\n",
    "        if(i==0 or i==rows-1 or j==0 or j==rows-1):\n",
    "            print(\"*\",end=\"\")\n",
    "        else:\n",
    "            print(' ',end='')\n",
    "        \n",
    "    print()"
   ]
  },
  {
   "cell_type": "markdown",
   "id": "3e8e70a8",
   "metadata": {},
   "source": [
    "## 36.Hollow Increasing Traingle"
   ]
  },
  {
   "cell_type": "code",
   "execution_count": 104,
   "id": "98b0e734",
   "metadata": {},
   "outputs": [
    {
     "name": "stdout",
     "output_type": "stream",
     "text": [
      "5\n",
      "*\n",
      "**\n",
      "* *\n",
      "*  *\n",
      "*****\n"
     ]
    }
   ],
   "source": [
    "rows=int(input())\n",
    "for i in range(rows):\n",
    "    for j in range(i+1):\n",
    "        if(i==rows-1 or j==0 or j==i):\n",
    "            print(\"*\",end=\"\")\n",
    "        else:\n",
    "            print(' ',end='')\n",
    "        \n",
    "    print()"
   ]
  },
  {
   "cell_type": "markdown",
   "id": "077ae256",
   "metadata": {},
   "source": [
    "## 37.Hollow Decreasing Traingle"
   ]
  },
  {
   "cell_type": "code",
   "execution_count": 124,
   "id": "b44243ae",
   "metadata": {},
   "outputs": [
    {
     "name": "stdout",
     "output_type": "stream",
     "text": [
      "5\n",
      "* * * * * \n",
      "*     * \n",
      "*   * \n",
      "* * \n",
      "* \n"
     ]
    }
   ],
   "source": [
    "rows=int(input())\n",
    "for i in range(rows):\n",
    "    for j in range(i,rows):\n",
    "        if(i==0 or j==i or j==rows-1 ):\n",
    "            print(\"*\",end=\" \")\n",
    "        else:\n",
    "            print(' ',end=' ')\n",
    "        \n",
    "    print()"
   ]
  },
  {
   "cell_type": "markdown",
   "id": "f403d6c1",
   "metadata": {},
   "source": [
    "## 38.X shape number pattern"
   ]
  },
  {
   "cell_type": "code",
   "execution_count": 127,
   "id": "a8e596d4",
   "metadata": {},
   "outputs": [
    {
     "name": "stdout",
     "output_type": "stream",
     "text": [
      "10\n",
      "0        9\n",
      " 1      8 \n",
      "  2    7  \n",
      "   3  6   \n",
      "    45    \n",
      "    45    \n",
      "   3  6   \n",
      "  2    7  \n",
      " 1      8 \n",
      "0        9\n"
     ]
    }
   ],
   "source": [
    "rows=int(input())\n",
    "for i in range(rows):\n",
    "    for j in range(rows):\n",
    "        if(i==j or i+j==rows-1):\n",
    "            print(j,end=\"\")\n",
    "        else:\n",
    "            print(' ',end='')\n",
    "        \n",
    "    print()"
   ]
  },
  {
   "cell_type": "markdown",
   "id": "bf2e5ef2",
   "metadata": {},
   "source": [
    "## 39. "
   ]
  },
  {
   "cell_type": "code",
   "execution_count": 134,
   "id": "e23cb729",
   "metadata": {},
   "outputs": [
    {
     "name": "stdout",
     "output_type": "stream",
     "text": [
      "5\n",
      "1 \n",
      "2 2 \n",
      "3 3 3 \n",
      "4 4 4 4 \n",
      "5 5 5 5 5 \n"
     ]
    }
   ],
   "source": [
    "n=int(input())\n",
    "for i in range(1,n+1):\n",
    "    for j in range(1,i+1):\n",
    "        print(i,end=' ')\n",
    "    print()"
   ]
  },
  {
   "cell_type": "markdown",
   "id": "d790a4a7",
   "metadata": {},
   "source": [
    "## 40."
   ]
  },
  {
   "cell_type": "code",
   "execution_count": 136,
   "id": "67a4486e",
   "metadata": {},
   "outputs": [
    {
     "name": "stdout",
     "output_type": "stream",
     "text": [
      "5\n",
      "5 5 5 5 5 \n",
      "4 4 4 4 \n",
      "3 3 3 \n",
      "2 2 \n",
      "1 \n"
     ]
    }
   ],
   "source": [
    "n=int(input())\n",
    "for i in range(n,0,-1):\n",
    "    for j in range(1,i+1):\n",
    "        print(i,end=' ')\n",
    "    print()"
   ]
  },
  {
   "cell_type": "markdown",
   "id": "503d7d97",
   "metadata": {},
   "source": [
    "## 41."
   ]
  },
  {
   "cell_type": "code",
   "execution_count": 137,
   "id": "30df7982",
   "metadata": {},
   "outputs": [
    {
     "name": "stdout",
     "output_type": "stream",
     "text": [
      "5\n",
      "1 2 3 4 5 \n",
      "1 2 3 4 \n",
      "1 2 3 \n",
      "1 2 \n",
      "1 \n"
     ]
    }
   ],
   "source": [
    "n=int(input())\n",
    "for i in range(n,0,-1):\n",
    "    for j in range(1,i+1):\n",
    "        print(j,end=' ')\n",
    "    print()"
   ]
  },
  {
   "cell_type": "markdown",
   "id": "32d29b5c",
   "metadata": {},
   "source": [
    "## 42.Sum of elements in the list"
   ]
  },
  {
   "cell_type": "code",
   "execution_count": 139,
   "id": "fb35ee33",
   "metadata": {},
   "outputs": [
    {
     "name": "stdout",
     "output_type": "stream",
     "text": [
      "224\n"
     ]
    }
   ],
   "source": [
    "l=[23,45,67,89]\n",
    "sum=0\n",
    "for i in range(len(l)):\n",
    "    sum+=l[i]\n",
    "print(sum)"
   ]
  },
  {
   "cell_type": "markdown",
   "id": "307e67bd",
   "metadata": {},
   "source": [
    "## 43. Count Number of Digits in an Integer using while loop"
   ]
  },
  {
   "cell_type": "code",
   "execution_count": 80,
   "id": "b8629b8f",
   "metadata": {},
   "outputs": [
    {
     "name": "stdout",
     "output_type": "stream",
     "text": [
      "enter the number12345678\n",
      "8\n"
     ]
    }
   ],
   "source": [
    "n=int(input(\"enter the number\"))\n",
    "count=0\n",
    "temp=n\n",
    "while temp>0:\n",
    "    rem=temp%10\n",
    "    count+=1\n",
    "    temp=temp//10\n",
    "print(count)"
   ]
  },
  {
   "cell_type": "markdown",
   "id": "f9f9720c",
   "metadata": {},
   "source": [
    "## 44.Count a letter present in the word"
   ]
  },
  {
   "cell_type": "code",
   "execution_count": 81,
   "id": "3a7fa735",
   "metadata": {},
   "outputs": [
    {
     "name": "stdout",
     "output_type": "stream",
     "text": [
      "enter the wordaaaaab\n",
      "enter the letter to checka\n",
      "5\n"
     ]
    }
   ],
   "source": [
    "string=input(\"enter the word\")\n",
    "string.lower()\n",
    "letter=input(\"enter the letter to check\")\n",
    "letter.lower()\n",
    "count=0\n",
    "for i in range(len(string)):\n",
    "    if string[i]==letter:\n",
    "        count+=1\n",
    "print(count)"
   ]
  },
  {
   "cell_type": "markdown",
   "id": "6fdcb857",
   "metadata": {},
   "source": [
    "## 45.Write a program for sum of digits"
   ]
  },
  {
   "cell_type": "code",
   "execution_count": 82,
   "id": "f3ba6986",
   "metadata": {},
   "outputs": [
    {
     "name": "stdout",
     "output_type": "stream",
     "text": [
      "enter the number76543\n",
      "25\n"
     ]
    }
   ],
   "source": [
    "# the digits are 76543 and the output should be 25.\n",
    "n=int(input(\"enter the number\"))\n",
    "sum=0\n",
    "while n>0:\n",
    "    rem=n%10\n",
    "    sum+=rem\n",
    "    n=n//10\n",
    "print(sum)"
   ]
  },
  {
   "cell_type": "markdown",
   "id": "3d5aa672",
   "metadata": {},
   "source": [
    "## 46. Add symbols after a letter with occurence"
   ]
  },
  {
   "cell_type": "code",
   "execution_count": 84,
   "id": "a71a6563",
   "metadata": {},
   "outputs": [
    {
     "name": "stdout",
     "output_type": "stream",
     "text": [
      "enter the wordaaabbaaac\n",
      "a$$$$$$b$$c$\n"
     ]
    }
   ],
   "source": [
    "string=input(\"enter the word\")\n",
    "string.lower()\n",
    "di={}\n",
    "for char in string:\n",
    "        # Only count alphabetic characters\n",
    "        if char.isalpha():\n",
    "            # Increment the count for the current letter\n",
    "            di[char] = di.get(char, 0) + 1\n",
    "            \n",
    "result_string = \"\"\n",
    "for letter, count in di.items():\n",
    "    \n",
    "    result_string += letter + \"$\" * count\n",
    "\n",
    "print(result_string)"
   ]
  },
  {
   "cell_type": "markdown",
   "id": "3f31d8c6",
   "metadata": {},
   "source": [
    "## 47."
   ]
  },
  {
   "cell_type": "code",
   "execution_count": 85,
   "id": "75426e97",
   "metadata": {},
   "outputs": [
    {
     "name": "stdout",
     "output_type": "stream",
     "text": [
      "3\n"
     ]
    }
   ],
   "source": [
    "l=[1,2,3,4,5,6]\n",
    "s=10\n",
    "count=0\n",
    "for i in range(len(l)):\n",
    "    for j in range(len(l)):\n",
    "        if l[i]+l[j]==10:\n",
    "            count+=1\n",
    "            \n",
    "print(count)"
   ]
  },
  {
   "cell_type": "markdown",
   "id": "784322c1",
   "metadata": {},
   "source": [
    "## 48. Reverse a string"
   ]
  },
  {
   "cell_type": "code",
   "execution_count": 89,
   "id": "8a7a08c9",
   "metadata": {},
   "outputs": [
    {
     "name": "stdout",
     "output_type": "stream",
     "text": [
      "welcome to my github account\n",
      "account github my to welcome\n"
     ]
    }
   ],
   "source": [
    "st=\"welcome to my github account\"\n",
    "print(st)\n",
    "a=list(st.split(\" \"))\n",
    "a.reverse()\n",
    "st=\"\"\n",
    "for i in a:\n",
    "    st+=\" \" +i\n",
    "    \n",
    "print(st.strip())"
   ]
  },
  {
   "cell_type": "markdown",
   "id": "ad4fda1b",
   "metadata": {},
   "source": [
    "## 49.Count the words in statement"
   ]
  },
  {
   "cell_type": "code",
   "execution_count": 90,
   "id": "4920261b",
   "metadata": {},
   "outputs": [
    {
     "name": "stdout",
     "output_type": "stream",
     "text": [
      "enter welcome to welcome for my to also\n",
      "{'welcome': 2, 'to': 2, 'for': 1, 'my': 1, 'also': 1}\n"
     ]
    }
   ],
   "source": [
    "def word_count(text):\n",
    "    words = text.lower().split()\n",
    "    counts = {}\n",
    "    for word in words:\n",
    "        if word in counts:\n",
    "            counts[word] += 1\n",
    "        else:\n",
    "            counts[word] = 1\n",
    "    \n",
    "    return counts\n",
    "\n",
    "\n",
    "text = input(\"enter \")\n",
    "counts = word_count(text)\n",
    "print(counts)"
   ]
  },
  {
   "cell_type": "markdown",
   "id": "dea3cc62",
   "metadata": {},
   "source": [
    "## 50.Write a code to Sort the element of the array without sort method"
   ]
  },
  {
   "cell_type": "code",
   "execution_count": 98,
   "id": "566a4261",
   "metadata": {},
   "outputs": [
    {
     "name": "stdout",
     "output_type": "stream",
     "text": [
      "without sorting [23, 1, 45, 78, 5, 89]\n",
      "after sorting\n",
      "1 5 23 45 78 89 "
     ]
    }
   ],
   "source": [
    "arr=[23,1,45,78,5,89]\n",
    "temp=0\n",
    "print(\"without sorting\",arr)\n",
    "for i in range(0, len(arr)):    \n",
    "    for j in range(i+1, len(arr)):    \n",
    "        if(arr[i] > arr[j]):    \n",
    "            temp = arr[i]   \n",
    "            arr[i] = arr[j]    \n",
    "            arr[j] = temp \n",
    "print('after sorting')\n",
    "for i in range(0, len(arr)):    \n",
    "    print(arr[i], end=\" \")        "
   ]
  },
  {
   "cell_type": "code",
   "execution_count": null,
   "id": "39cb2140",
   "metadata": {},
   "outputs": [],
   "source": []
  }
 ],
 "metadata": {
  "kernelspec": {
   "display_name": "Python 3 (ipykernel)",
   "language": "python",
   "name": "python3"
  },
  "language_info": {
   "codemirror_mode": {
    "name": "ipython",
    "version": 3
   },
   "file_extension": ".py",
   "mimetype": "text/x-python",
   "name": "python",
   "nbconvert_exporter": "python",
   "pygments_lexer": "ipython3",
   "version": "3.10.9"
  }
 },
 "nbformat": 4,
 "nbformat_minor": 5
}
